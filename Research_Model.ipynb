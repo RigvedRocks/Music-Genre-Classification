{
  "nbformat": 4,
  "nbformat_minor": 0,
  "metadata": {
    "kernelspec": {
      "language": "python",
      "display_name": "Python 3",
      "name": "python3"
    },
    "language_info": {
      "pygments_lexer": "ipython3",
      "nbconvert_exporter": "python",
      "version": "3.6.4",
      "file_extension": ".py",
      "codemirror_mode": {
        "name": "ipython",
        "version": 3
      },
      "name": "python",
      "mimetype": "text/x-python"
    },
    "colab": {
      "name": "Research Model",
      "provenance": [],
      "private_outputs": true,
      "collapsed_sections": [],
      "include_colab_link": true
    },
    "accelerator": "GPU"
  },
  "cells": [
    {
      "cell_type": "markdown",
      "metadata": {
        "id": "view-in-github",
        "colab_type": "text"
      },
      "source": [
        "<a href=\"https://colab.research.google.com/github/RigvedRocks/Music-Genre-Classification/blob/main/Research_Model.ipynb\" target=\"_parent\"><img src=\"https://colab.research.google.com/assets/colab-badge.svg\" alt=\"Open In Colab\"/></a>"
      ]
    },
    {
      "cell_type": "code",
      "metadata": {
        "id": "th2gCgvqMm-V"
      },
      "source": [
        "!pip install -q kaggle\n",
        "from google.colab import files\n",
        " \n",
        "files.upload()\n",
        "! mkdir ~/.kaggle\n",
        " \n",
        "! cp kaggle.json ~/.kaggle/\n",
        "! chmod 600 ~/.kaggle/kaggle.json\n",
        " \n",
        "!kaggle datasets download andradaolteanu/gtzan-dataset-music-genre-classification\n",
        "!ls"
      ],
      "execution_count": null,
      "outputs": []
    },
    {
      "cell_type": "code",
      "metadata": {
        "id": "SsNHzDxgjA68"
      },
      "source": [
        "!mkdir train\n",
        "!unzip gtzan-dataset-music-genre-classification.zip -d train"
      ],
      "execution_count": null,
      "outputs": []
    },
    {
      "cell_type": "code",
      "metadata": {
        "_uuid": "8f2839f25d086af736a60e9eeb907d3b93b6e0e5",
        "_cell_guid": "b1076dfc-b9ad-4769-8c92-a6c4dae69d19",
        "trusted": true,
        "id": "pJQqmjZpMiBK"
      },
      "source": [
        "import numpy as np\n",
        "import pandas as pd\n",
        "import librosa\n",
        "import librosa.display\n",
        "import matplotlib.pyplot as plt\n",
        "import os\n",
        "import warnings\n",
        "import sklearn\n",
        "warnings.filterwarnings('ignore',category = UserWarning)"
      ],
      "execution_count": null,
      "outputs": []
    },
    {
      "cell_type": "code",
      "metadata": {
        "id": "RQNVkjUfPA0g"
      },
      "source": [
        "def plot_waveplot(data,sampling_rate):\n",
        "\n",
        "    librosa.display.waveplot(data,sr = sampling_rate) #plotting waveplot\n",
        "    plt.xlabel(\"Time\")\n",
        "    plt.show()"
      ],
      "execution_count": null,
      "outputs": []
    },
    {
      "cell_type": "code",
      "metadata": {
        "id": "_4QjVhRuPBCy"
      },
      "source": [
        "def plot_spectrogram(data,sampling_rate):\n",
        "\n",
        "     mel_spect = librosa.feature.melspectrogram(data,sr = sampling_rate,n_fft = 2048,hop_length = 1024)\n",
        "     mel_spect = librosa.power_to_db(mel_spect)\n",
        "     librosa.display.specshow(mel_spect,y_axis = 'mel',fmax = 8000,x_axis = 'time')\n",
        "     plt.title('Mel Spectogram')\n",
        "     plt.colorbar(format = \"%+2.0f dB\")\n",
        "     plt.show()"
      ],
      "execution_count": null,
      "outputs": []
    },
    {
      "cell_type": "code",
      "metadata": {
        "id": "ZXqfcuP0nQ-_"
      },
      "source": [
        "def plot_mfcc(data,sampling_rate):\n",
        "     mfccs = librosa.feature.mfcc(data, sampling_rate) #plotting mfccs\n",
        "     librosa.display.specshow(mfccs,sr = sampling_rate, x_axis = 'time')\n",
        "     plt.show()"
      ],
      "execution_count": null,
      "outputs": []
    },
    {
      "cell_type": "code",
      "metadata": {
        "id": "d29qH9BbPBci"
      },
      "source": [
        "def plot_scaledmfcc(data,sampling_rate):\n",
        "     \n",
        "     mfccs = librosa.feature.mfcc(data, sampling_rate) #plotting mfccs\n",
        "     scaled_mfccs = sklearn.preprocessing.scale(mfccs) #plotting scaled mfccs\n",
        "     librosa.display.specshow(scaled_mfccs,sr = sampling_rate, x_axis = 'time')\n",
        "     plt.show()"
      ],
      "execution_count": null,
      "outputs": []
    },
    {
      "cell_type": "code",
      "metadata": {
        "trusted": true,
        "id": "L1mGDjbzMiBZ"
      },
      "source": [
        "data,sampling_rate = librosa.load('/content/train/Data/genres_original/blues/blues.00005.wav')\n",
        "plot_waveplot(data,sampling_rate)\n",
        "plot_spectrogram(data,sampling_rate)\n",
        "plot_mfcc(data,sampling_rate)\n",
        "plot_scaledmfcc(data,sampling_rate)"
      ],
      "execution_count": null,
      "outputs": []
    },
    {
      "cell_type": "code",
      "metadata": {
        "_uuid": "d629ff2d2480ee46fbb7e2d37f6b5fab8052498a",
        "_cell_guid": "79c7e3d0-c299-4dcb-8224-4455121ee9b0",
        "trusted": true,
        "id": "OMwzIiGTMiBT"
      },
      "source": [
        "data,sampling_rate = librosa.load('/content/train/Data/genres_original/classical/classical.00001.wav')\n",
        "plot_waveplot(data,sampling_rate)\n",
        "plot_spectrogram(data,sampling_rate)\n",
        "plot_mfcc(data,sampling_rate)\n",
        "plot_scaledmfcc(data,sampling_rate)"
      ],
      "execution_count": null,
      "outputs": []
    },
    {
      "cell_type": "code",
      "metadata": {
        "trusted": true,
        "id": "aSqHbXpfMiBp"
      },
      "source": [
        "data,sampling_rate = librosa.load('/content/train/Data/genres_original/country/country.00032.wav')\n",
        "plot_waveplot(data,sampling_rate)\n",
        "plot_spectrogram(data,sampling_rate)\n",
        "plot_mfcc(data,sampling_rate)\n",
        "plot_scaledmfcc(data,sampling_rate)"
      ],
      "execution_count": null,
      "outputs": []
    },
    {
      "cell_type": "code",
      "metadata": {
        "id": "-IXLg6M12ZpR"
      },
      "source": [
        "data,sampling_rate = librosa.load('/content/train/Data/genres_original/disco/disco.00019.wav')\n",
        "plot_waveplot(data,sampling_rate)\n",
        "plot_spectrogram(data,sampling_rate)\n",
        "plot_mfcc(data,sampling_rate)\n",
        "plot_scaledmfcc(data,sampling_rate)"
      ],
      "execution_count": null,
      "outputs": []
    },
    {
      "cell_type": "code",
      "metadata": {
        "id": "IgR1u5CR2Z2Q"
      },
      "source": [
        "data,sampling_rate = librosa.load('/content/train/Data/genres_original/hiphop/hiphop.00008.wav')\n",
        "plot_waveplot(data,sampling_rate)\n",
        "plot_spectrogram(data,sampling_rate)\n",
        "plot_mfcc(data,sampling_rate)\n",
        "plot_scaledmfcc(data,sampling_rate)"
      ],
      "execution_count": null,
      "outputs": []
    },
    {
      "cell_type": "code",
      "metadata": {
        "id": "ZBBMqteF2aA1"
      },
      "source": [
        "data,sampling_rate = librosa.load('/content/train/Data/genres_original/jazz/jazz.00050.wav')\n",
        "plot_waveplot(data,sampling_rate)\n",
        "plot_spectrogram(data,sampling_rate)\n",
        "plot_mfcc(data,sampling_rate)\n",
        "plot_scaledmfcc(data,sampling_rate)"
      ],
      "execution_count": null,
      "outputs": []
    },
    {
      "cell_type": "code",
      "metadata": {
        "id": "uvI3JVni2aM5"
      },
      "source": [
        "data,sampling_rate = librosa.load('/content/train/Data/genres_original/metal/metal.00045.wav')\n",
        "plot_waveplot(data,sampling_rate)\n",
        "plot_spectrogram(data,sampling_rate)\n",
        "plot_mfcc(data,sampling_rate)\n",
        "plot_scaledmfcc(data,sampling_rate)"
      ],
      "execution_count": null,
      "outputs": []
    },
    {
      "cell_type": "code",
      "metadata": {
        "id": "ds3saSxN2aeD"
      },
      "source": [
        "data,sampling_rate = librosa.load('/content/train/Data/genres_original/pop/pop.00012.wav')\n",
        "plot_waveplot(data,sampling_rate)\n",
        "plot_spectrogram(data,sampling_rate)\n",
        "plot_mfcc(data,sampling_rate)\n",
        "plot_scaledmfcc(data,sampling_rate)"
      ],
      "execution_count": null,
      "outputs": []
    },
    {
      "cell_type": "code",
      "metadata": {
        "id": "x2uoycgW2aqg"
      },
      "source": [
        "data,sampling_rate = librosa.load('/content/train/Data/genres_original/reggae/reggae.00087.wav')\n",
        "plot_waveplot(data,sampling_rate)\n",
        "plot_spectrogram(data,sampling_rate)\n",
        "plot_mfcc(data,sampling_rate)\n",
        "plot_scaledmfcc(data,sampling_rate)"
      ],
      "execution_count": null,
      "outputs": []
    },
    {
      "cell_type": "code",
      "metadata": {
        "trusted": true,
        "id": "RAZDmALVMiBk"
      },
      "source": [
        "data,sampling_rate = librosa.load('/content/train/Data/genres_original/rock/rock.00010.wav')\n",
        "plot_waveplot(data,sampling_rate)\n",
        "plot_spectrogram(data,sampling_rate)\n",
        "plot_mfcc(data,sampling_rate)\n",
        "plot_scaledmfcc(data,sampling_rate)"
      ],
      "execution_count": null,
      "outputs": []
    },
    {
      "cell_type": "code",
      "metadata": {
        "trusted": true,
        "id": "KQTty6NLMiBx"
      },
      "source": [
        "features_30_sec = pd.read_csv('/content/train/Data/features_30_sec.csv')"
      ],
      "execution_count": null,
      "outputs": []
    },
    {
      "cell_type": "code",
      "metadata": {
        "trusted": true,
        "id": "WdSbCOqrMiB2"
      },
      "source": [
        "print(features_30_sec.shape)"
      ],
      "execution_count": null,
      "outputs": []
    },
    {
      "cell_type": "code",
      "metadata": {
        "trusted": true,
        "id": "jkHxLcIuMiB9"
      },
      "source": [
        "print(features_30_sec.columns)"
      ],
      "execution_count": null,
      "outputs": []
    },
    {
      "cell_type": "code",
      "metadata": {
        "trusted": true,
        "id": "4Q9TBL8cMiCD"
      },
      "source": [
        "features_30_sec.head(125)"
      ],
      "execution_count": null,
      "outputs": []
    },
    {
      "cell_type": "code",
      "metadata": {
        "trusted": true,
        "id": "73jI2rOTMiCI"
      },
      "source": [
        "\n",
        "features_30_sec.label.value_counts()"
      ],
      "execution_count": null,
      "outputs": []
    },
    {
      "cell_type": "code",
      "metadata": {
        "trusted": true,
        "id": "VvjdqsD_MiCM"
      },
      "source": [
        "\n",
        "\n",
        "bluestrain = features_30_sec.iloc[0:80,:]\n",
        "classicaltrain = features_30_sec.iloc[100:180,:]\n",
        "countrystrain = features_30_sec.iloc[200:280,:]\n",
        "discotrain = features_30_sec.iloc[300:380,:]\n",
        "hiphoptrain = features_30_sec.iloc[400:480,:]\n",
        "jazztrain = features_30_sec.iloc[500:580,:]\n",
        "metaltrain = features_30_sec.iloc[600:680,:]\n",
        "poptrain = features_30_sec.iloc[700:780,:]\n",
        "reggaetrain = features_30_sec.iloc[800:880,:]\n",
        "rocktrain = features_30_sec.iloc[900:980,:]\n",
        "train = pd.concat([bluestrain,classicaltrain,countrystrain,discotrain,hiphoptrain,jazztrain,metaltrain,poptrain,reggaetrain,rocktrain])"
      ],
      "execution_count": null,
      "outputs": []
    },
    {
      "cell_type": "code",
      "metadata": {
        "trusted": true,
        "id": "UPvh6OJ_MiCR"
      },
      "source": [
        "print(train.shape)"
      ],
      "execution_count": null,
      "outputs": []
    },
    {
      "cell_type": "code",
      "metadata": {
        "trusted": true,
        "id": "IAWBgcCKMiCW"
      },
      "source": [
        "train.label.value_counts()"
      ],
      "execution_count": null,
      "outputs": []
    },
    {
      "cell_type": "code",
      "metadata": {
        "trusted": true,
        "id": "Aa-fmrA2MiCb"
      },
      "source": [
        "bluestest = features_30_sec.iloc[80:100,:]\n",
        "classicaltest = features_30_sec.iloc[180:200,:]\n",
        "countrytest = features_30_sec.iloc[280:300,:]\n",
        "discotest = features_30_sec.iloc[380:400,:]\n",
        "hiphoptest = features_30_sec.iloc[480:500,:]\n",
        "jazztest = features_30_sec.iloc[580:600,:]\n",
        "metaltest = features_30_sec.iloc[680:700,:]\n",
        "poptest = features_30_sec.iloc[780:800,:]\n",
        "reggaetest = features_30_sec.iloc[880:900,:]\n",
        "rocktest = features_30_sec.iloc[980:1000,:]\n",
        "test = pd.concat([bluestest,classicaltest,countrytest,discotest,hiphoptest,jazztest,metaltest,poptest,reggaetest,rocktest])"
      ],
      "execution_count": null,
      "outputs": []
    },
    {
      "cell_type": "code",
      "metadata": {
        "trusted": true,
        "id": "yxgnp-_8MiCh"
      },
      "source": [
        "print(test.shape)"
      ],
      "execution_count": null,
      "outputs": []
    },
    {
      "cell_type": "code",
      "metadata": {
        "trusted": true,
        "id": "Q5W9qSgwMiCm"
      },
      "source": [
        "test.label.value_counts()"
      ],
      "execution_count": null,
      "outputs": []
    },
    {
      "cell_type": "code",
      "metadata": {
        "trusted": true,
        "id": "QgOJ4kOqMiCq"
      },
      "source": [
        "train.drop(train[train.filename == 'jazz.00054.wav'].index,inplace = True)"
      ],
      "execution_count": null,
      "outputs": []
    },
    {
      "cell_type": "code",
      "metadata": {
        "trusted": true,
        "id": "btsXF388MiCw"
      },
      "source": [
        "def parser(row):\n",
        "    data_dir = '/content/train/Data/genres_original'\n",
        "    file_name = os.path.join(data_dir,row.label + '/' + row.filename)\n",
        "    try:\n",
        "    #kaiser_fast is a technique used for faster extraction\n",
        "      X,sample_rate = librosa.load(file_name,res_type = \"kaiser_fast\")\n",
        "    #we extract mfcc features from data\n",
        "      mfccs = np.mean(librosa.feature.mfcc(y=X,sr = sample_rate,n_mfcc=40).T,axis=0)\n",
        "    except Exception as e:\n",
        "        print(\"Error encountered while parsing file: \", row.filename)\n",
        "        return None, None\n",
        "    features = mfccs\n",
        "    label = row.label\n",
        "    \n",
        "    \n",
        "    return [features,label]\n",
        "\n",
        "#temp = pd.DataFrame(columns = ['features','label'])\n",
        "temp = train.apply(parser,axis = 1,result_type = 'expand')\n",
        "temp.columns = ['features','label']\n",
        "print(type(temp))\n",
        "    "
      ],
      "execution_count": null,
      "outputs": []
    },
    {
      "cell_type": "code",
      "metadata": {
        "trusted": true,
        "id": "qbpy5gFXMiC3"
      },
      "source": [
        "s = test.apply(parser,axis = 1,result_type = 'expand')\n",
        "s.columns = ['features','label']\n",
        "print(type(s))"
      ],
      "execution_count": null,
      "outputs": []
    },
    {
      "cell_type": "code",
      "metadata": {
        "trusted": true,
        "id": "fSFv80q1MiC8"
      },
      "source": [
        "print(temp.columns)"
      ],
      "execution_count": null,
      "outputs": []
    },
    {
      "cell_type": "code",
      "metadata": {
        "trusted": true,
        "id": "lPRAez92MiDB"
      },
      "source": [
        "temp.shape"
      ],
      "execution_count": null,
      "outputs": []
    },
    {
      "cell_type": "code",
      "metadata": {
        "trusted": true,
        "id": "mdtCdhyHMiDG"
      },
      "source": [
        "print(s.shape)"
      ],
      "execution_count": null,
      "outputs": []
    },
    {
      "cell_type": "code",
      "metadata": {
        "trusted": true,
        "id": "w0JjotU3MiDK"
      },
      "source": [
        "from sklearn.svm import SVC\n",
        "from keras.utils import np_utils\n",
        "from sklearn.preprocessing import LabelEncoder\n",
        "\n",
        "\n",
        "X = np.array(temp.features.tolist())\n",
        "y = np.array(temp.label.tolist())"
      ],
      "execution_count": null,
      "outputs": []
    },
    {
      "cell_type": "code",
      "metadata": {
        "trusted": true,
        "id": "CW7i90XkMiDU"
      },
      "source": [
        "lb = LabelEncoder()\n",
        "lb.fit(y)\n",
        "y = lb.transform(y)"
      ],
      "execution_count": null,
      "outputs": []
    },
    {
      "cell_type": "code",
      "metadata": {
        "trusted": true,
        "id": "7xJ1uDW1MiDb"
      },
      "source": [
        "print(y.shape)"
      ],
      "execution_count": null,
      "outputs": []
    },
    {
      "cell_type": "code",
      "metadata": {
        "trusted": true,
        "id": "__Gt8F2zMiDi"
      },
      "source": [
        "y = np_utils.to_categorical(y)"
      ],
      "execution_count": null,
      "outputs": []
    },
    {
      "cell_type": "code",
      "metadata": {
        "trusted": true,
        "id": "S_SpcJiIMiDo"
      },
      "source": [
        "\n",
        "print(y.shape)"
      ],
      "execution_count": null,
      "outputs": []
    },
    {
      "cell_type": "code",
      "metadata": {
        "trusted": true,
        "id": "3ESULO8kMiDu"
      },
      "source": [
        "print(X.shape)"
      ],
      "execution_count": null,
      "outputs": []
    },
    {
      "cell_type": "code",
      "metadata": {
        "trusted": true,
        "id": "211S70llMiDz"
      },
      "source": [
        "x_test = np.array(s.features.tolist())\n",
        "y_test = np.array(s.label.tolist())"
      ],
      "execution_count": null,
      "outputs": []
    },
    {
      "cell_type": "code",
      "metadata": {
        "trusted": true,
        "id": "a1iGBnmbMiD3"
      },
      "source": [
        "print(y_test.shape)"
      ],
      "execution_count": null,
      "outputs": []
    },
    {
      "cell_type": "code",
      "metadata": {
        "trusted": true,
        "id": "kIiCt69sMiD9"
      },
      "source": [
        "y_test = lb.transform(y_test)"
      ],
      "execution_count": null,
      "outputs": []
    },
    {
      "cell_type": "code",
      "metadata": {
        "trusted": true,
        "id": "icJnl-pwMiED"
      },
      "source": [
        "print(x_test.shape)"
      ],
      "execution_count": null,
      "outputs": []
    },
    {
      "cell_type": "code",
      "metadata": {
        "trusted": true,
        "id": "7l6wfW48MiEH"
      },
      "source": [
        "y_test = np_utils.to_categorical(y_test)\n",
        "print(y_test.shape)"
      ],
      "execution_count": null,
      "outputs": []
    },
    {
      "cell_type": "code",
      "metadata": {
        "trusted": true,
        "id": "cfuRr9CfMiEL"
      },
      "source": [
        "from numpy import savez_compressed\n",
        "savez_compressed('training_and_test_set.npz',X,y,x_test,y_test)"
      ],
      "execution_count": null,
      "outputs": []
    },
    {
      "cell_type": "code",
      "metadata": {
        "trusted": true,
        "id": "0O9GCCjtMiEP"
      },
      "source": [
        "from numpy import load\n",
        "data = load('./training_and_test_set.npz')\n",
        "X,y,x_test,y_test = data['arr_0'], data['arr_1'], data['arr_2'], data['arr_3']"
      ],
      "execution_count": null,
      "outputs": []
    },
    {
      "cell_type": "code",
      "metadata": {
        "trusted": true,
        "id": "DT7yqJlSMiEW"
      },
      "source": [
        "from sklearn.preprocessing import StandardScaler\n",
        "sc_X = StandardScaler()\n",
        "X = sc_X.fit_transform(X)\n",
        "x_test = sc_X.transform(x_test)"
      ],
      "execution_count": null,
      "outputs": []
    },
    {
      "cell_type": "code",
      "metadata": {
        "trusted": true,
        "id": "S4GoGNPfMiEa"
      },
      "source": [
        "import tensorflow as tf\n",
        "import keras\n",
        "from keras.layers import Embedding,Dense,Bidirectional,LSTM,BatchNormalization,GRU,Dropout\n",
        "from keras.models import Sequential\n",
        "from keras.callbacks import History\n",
        "!pip install tensorflow-addons\n",
        "import tensorflow_addons as tfa"
      ],
      "execution_count": null,
      "outputs": []
    },
    {
      "cell_type": "code",
      "metadata": {
        "trusted": true,
        "id": "mGLuCdBqMiEk"
      },
      "source": [
        "lr_schedule = tf.keras.optimizers.schedules.InverseTimeDecay(\n",
        "  0.001,\n",
        "  decay_steps=10000,\n",
        "  decay_rate=0.01,\n",
        "  staircase=False)\n",
        "\n",
        "def get_optimizer(optimizer):\n",
        "    if optimizer == 'Adam':\n",
        "        return tf.keras.optimizers.Adam(lr_schedule)\n",
        "    elif optimizer == 'SGD':\n",
        "        return tf.keras.optimizers.SGD(lr_schedule)\n",
        "    elif optimizer == 'Rectified Adam':\n",
        "        return tfa.optimizers.RectifiedAdam(lr_schedule)\n",
        "    else:\n",
        "        return tf.keras.optimizers.RMSprop(lr_schedule)"
      ],
      "execution_count": null,
      "outputs": []
    },
    {
      "cell_type": "code",
      "metadata": {
        "trusted": true,
        "id": "zkt0Wdl8MiEo"
      },
      "source": [
        "#def get_callbacks():\n",
        "#    return[\n",
        "#        tfdocs.modeling.EpochDots(),\n",
        "#        tf.keras.callbacks.EarlyStopping(monitor = \"categorical_crossentropy\",patience = 200)\n",
        "#    ]"
      ],
      "execution_count": null,
      "outputs": []
    },
    {
      "cell_type": "code",
      "metadata": {
        "trusted": true,
        "id": "K6IPLs1MMiE2"
      },
      "source": [
        "def compile_and_fit(batch,epochs,X,y,x_test,y_test,method):\n",
        "    \n",
        "    \n",
        "    tf.random.set_seed(1)\n",
        "    optimizer = get_optimizer(method)\n",
        "    model = Sequential()\n",
        "    model.add(Bidirectional(GRU(units = 2000,return_sequences = True,input_shape = (1,40))))\n",
        "    #model.add(Dropout(0.5))\n",
        "    #model.add(Bidirectional(LSTM(units = 32,return_sequences = False))) \n",
        "    model.add(Dropout(0.5))\n",
        "    \n",
        "    model.add(Dense(2048,activation='relu',kernel_regularizer = keras.regularizers.l2(l = 1e-4),kernel_initializer = 'HeNormal',bias_initializer = 'Zeros'))\n",
        "    model.add(Dropout(0.5))\n",
        "    \n",
        "    model.add(Dense(4096,activation = 'relu',kernel_regularizer = keras.regularizers.l2(l = 1e-4),kernel_initializer = 'HeNormal',bias_initializer = 'Zeros'))\n",
        "    model.add(Dropout(0.5))\n",
        "    \n",
        "    model.add(Dense(2048,activation='relu',kernel_regularizer = keras.regularizers.l2(l = 1e-4),kernel_initializer = 'HeNormal',bias_initializer = 'Zeros'))\n",
        "    model.add(Dropout(0.5))\n",
        "    \n",
        "    model.add(Dense(2048,activation = 'relu',kernel_initializer = 'HeNormal',bias_initializer = 'Zeros'))\n",
        "    \n",
        "    model.add(Dense(512,activation = 'relu',kernel_initializer = 'HeNormal',bias_initializer = 'Zeros'))\n",
        "    model.add(Dense(10,activation = 'softmax'))\n",
        "    \n",
        "    model.compile(optimizer= optimizer,\n",
        "                loss=tf.keras.losses.CategoricalCrossentropy(),\n",
        "                metrics=[\n",
        "                  #tf.keras.losses.CategoricalCrossentropy(\n",
        "                  #    from_logits=True, name='categorical_crossentropy'),\n",
        "                  'accuracy'])\n",
        "\n",
        "       \n",
        "\n",
        "    history = History()\n",
        "    history = model.fit(\n",
        "    X,y,\n",
        "    batch_size = batch,\n",
        "    epochs=epochs,\n",
        "    validation_data=(x_test,y_test),\n",
        "    \n",
        "    ) \n",
        "\n",
        "    model.save('model.h5')\n",
        "    return history,model"
      ],
      "execution_count": null,
      "outputs": []
    },
    {
      "cell_type": "code",
      "metadata": {
        "id": "0Yin2YM__jao"
      },
      "source": [
        "def compile_model(batch,epochs,X,y,x_test,y_test,method):\n",
        "    \n",
        "    \n",
        "    tf.random.set_seed(1)\n",
        "    optimizer = get_optimizer(method)\n",
        "    model = Sequential()\n",
        "    model.add(Bidirectional(LSTM(units = 2000,return_sequences = True,input_shape = (1,40))))\n",
        "    #model.add(Dropout(0.5))\n",
        "    #model.add(Bidirectional(LSTM(units = 32,return_sequences = False))) \n",
        "    model.add(Dropout(0.5))\n",
        "    \n",
        "    model.add(Dense(2048,activation='relu',kernel_regularizer = keras.regularizers.l2(l = 1e-4),kernel_initializer = 'HeNormal',bias_initializer = 'Zeros'))\n",
        "    model.add(Dropout(0.5))\n",
        "    \n",
        "    model.add(Dense(4096,activation = 'relu',kernel_regularizer = keras.regularizers.l2(l = 1e-4),kernel_initializer = 'HeNormal',bias_initializer = 'Zeros'))\n",
        "    model.add(Dropout(0.5))\n",
        "    \n",
        "    model.add(Dense(2048,activation='relu',kernel_regularizer = keras.regularizers.l2(l = 1e-4),kernel_initializer = 'HeNormal',bias_initializer = 'Zeros'))\n",
        "    model.add(Dropout(0.5))\n",
        "    \n",
        "    model.add(Dense(2048,activation = 'relu',kernel_initializer = 'HeNormal',bias_initializer = 'Zeros'))\n",
        "    \n",
        "    model.add(Dense(512,activation = 'relu',kernel_initializer = 'HeNormal',bias_initializer = 'Zeros'))\n",
        "    model.add(Dense(10,activation = 'softmax'))\n",
        "    \n",
        "    model.compile(optimizer= optimizer,\n",
        "                loss=tf.keras.losses.CategoricalCrossentropy(),\n",
        "                metrics=[\n",
        "                  #tf.keras.losses.CategoricalCrossentropy(\n",
        "                  #    from_logits=True, name='categorical_crossentropy'),\n",
        "                  'accuracy'])\n",
        "    \n",
        "    history = History()\n",
        "    history = model.fit(\n",
        "    X,y,\n",
        "    batch_size = batch,\n",
        "    epochs=epochs,\n",
        "    validation_data=(x_test,y_test),\n",
        "    \n",
        "    ) \n",
        "\n",
        "    model.save('model(1).h5')\n",
        "    return history,model\n"
      ],
      "execution_count": null,
      "outputs": []
    },
    {
      "cell_type": "code",
      "metadata": {
        "trusted": true,
        "id": "paEdlcfGMiFR"
      },
      "source": [
        "def built_model(BATCH_SIZE,NUM_EPOCHS,X,y,x_test,y_test,method):\n",
        "    \n",
        "    history = History()\n",
        "    history,model = compile_and_fit(BATCH_SIZE,NUM_EPOCHS,X,y,x_test,y_test,method)\n",
        "    plot_graph(history)\n",
        "    train_metrics = model.evaluate(X,y,batch_size = 150)\n",
        "    print(\"Training set loss for GRU Model = \",train_metrics[0])\n",
        "    print(\"Training set accuracy for GRU Model = \" , train_metrics[1])\n",
        "    test_metrics = model.evaluate(x_test,y_test,batch_size = 150)\n",
        "    print(\"Test set loss for GRU Model = \", test_metrics[0])\n",
        "    print(\"Test set accuarcy for GRU Model = \" , test_metrics[1])\n",
        "    return \n",
        "    \n",
        "    "
      ],
      "execution_count": null,
      "outputs": []
    },
    {
      "cell_type": "code",
      "metadata": {
        "id": "wIgsYSpy_UZQ"
      },
      "source": [
        "def get_model(BATCH_SIZE,NUM_EPOCHS,X,y,x_test,y_test,method):\n",
        "    history = History()\n",
        "    history,model = compile_model(BATCH_SIZE,NUM_EPOCHS,X,y,x_test,y_test,method)\n",
        "    plot_graph(history)\n",
        "    train_metrics = model.evaluate(X,y,batch_size = 150)\n",
        "    print(\"Training set loss for LSTM Model = \" , train_metrics[0])\n",
        "    print(\"Training set accuracy for LSTM Model = \" , train_metrics[1])\n",
        "    test_metrics = model.evaluate(x_test,y_test,batch_size = 150)\n",
        "    print(\"Test set loss for LSTM Model = \" , test_metrics[0])\n",
        "    print(\"Test set accuarcy for LSTM Model = \" , test_metrics[1])\n",
        "    return "
      ],
      "execution_count": null,
      "outputs": []
    },
    {
      "cell_type": "code",
      "metadata": {
        "trusted": true,
        "id": "HTTLBtwoMiF_"
      },
      "source": [
        "def plot_graph(history):\n",
        "    plt.plot(history.history['accuracy'])\n",
        "    plt.plot(history.history['val_accuracy'])\n",
        "    plt.title('model accuracy')\n",
        "    plt.ylabel('accuracy')\n",
        "    plt.xlabel('epoch')\n",
        "    plt.legend(['train', 'val'], loc='upper left')\n",
        "    plt.show()\n",
        "\n",
        "    plt.plot(history.history['loss'])\n",
        "    plt.plot(history.history['val_loss'])\n",
        "    plt.title('model loss')\n",
        "    plt.ylabel('loss')\n",
        "    plt.xlabel('epoch')\n",
        "    plt.legend(['train', 'val'], loc='upper left')\n",
        "    plt.show()"
      ],
      "execution_count": null,
      "outputs": []
    },
    {
      "cell_type": "code",
      "metadata": {
        "trusted": true,
        "id": "ed_fXG7pMiFi"
      },
      "source": [
        "batch = 150\n",
        "num_epoch = 200\n"
      ],
      "execution_count": null,
      "outputs": []
    },
    {
      "cell_type": "code",
      "metadata": {
        "trusted": true,
        "id": "-ZB38jmsMiFs"
      },
      "source": [
        "X = X.reshape(X.shape[0],1,X.shape[1])\n",
        "x_test = x_test.reshape(x_test.shape[0],1,x_test.shape[1])"
      ],
      "execution_count": null,
      "outputs": []
    },
    {
      "cell_type": "code",
      "metadata": {
        "trusted": true,
        "id": "bAy5FPMUMiFy"
      },
      "source": [
        "y = y.reshape(y.shape[0],1,y.shape[1])\n",
        "y_test = y_test.reshape(y_test.shape[0],1,y_test.shape[1])"
      ],
      "execution_count": null,
      "outputs": []
    },
    {
      "cell_type": "code",
      "metadata": {
        "trusted": true,
        "id": "6bUzgalzMiF6"
      },
      "source": [
        "method = input('Enter any one of the optimization algorithm(SGD,RMSprop,Adam,Rectified Adam) - ')\n",
        "for i in range(0,2):\n",
        "    if i == 0:\n",
        "        built_model(batch,num_epoch,X,y,x_test,y_test,method)\n",
        "    else:\n",
        "        get_model(batch,num_epoch,X,y,x_test,y_test,method)"
      ],
      "execution_count": null,
      "outputs": []
    },
    {
      "cell_type": "markdown",
      "metadata": {
        "id": "tDKV1Jz6MiF-"
      },
      "source": [
        ""
      ]
    }
  ]
}